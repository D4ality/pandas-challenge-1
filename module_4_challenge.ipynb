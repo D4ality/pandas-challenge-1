{
 "cells": [
  {
   "cell_type": "markdown",
   "id": "dc0318d6",
   "metadata": {},
   "source": [
    "## Part 1: Explore the Data\n",
    "\n",
    "Import the data and use Pandas to learn more about the dataset."
   ]
  },
  {
   "cell_type": "code",
   "execution_count": 5,
   "id": "e076f57f",
   "metadata": {},
   "outputs": [
    {
     "name": "stdout",
     "output_type": "stream",
     "text": [
      "Current Directory: /Users/anielrios/Desktop/pandas-challenge-1\n"
     ]
    }
   ],
   "source": [
    "import pandas as pd\n",
    "import os\n",
    "\n",
    "current_dir = os.getcwd()\n",
    "print(\"Current Directory:\", current_dir)"
   ]
  },
  {
   "cell_type": "code",
   "execution_count": null,
   "id": "71b9bbd2",
   "metadata": {},
   "outputs": [],
   "source": [
    "# View the column names in the data\n",
    "\n"
   ]
  },
  {
   "cell_type": "code",
   "execution_count": null,
   "id": "bc0f4172",
   "metadata": {},
   "outputs": [],
   "source": [
    "# Use the describe function to gather some basic statistics\n",
    "\n"
   ]
  },
  {
   "cell_type": "code",
   "execution_count": null,
   "id": "b24b53cc",
   "metadata": {},
   "outputs": [],
   "source": [
    "# Use this space to do any additional research\n",
    "# and familiarize yourself with the data.\n",
    "\n"
   ]
  },
  {
   "cell_type": "code",
   "execution_count": null,
   "id": "551cb358",
   "metadata": {},
   "outputs": [],
   "source": [
    "# What three item categories had the most entries?\n",
    "\n"
   ]
  },
  {
   "cell_type": "code",
   "execution_count": null,
   "id": "5f54e2cf",
   "metadata": {},
   "outputs": [],
   "source": [
    "# For the category with the most entries,\n",
    "# which subcategory had the most entries?\n",
    "\n"
   ]
  },
  {
   "cell_type": "code",
   "execution_count": null,
   "id": "2db94379",
   "metadata": {},
   "outputs": [],
   "source": [
    "# Which five clients had the most entries in the data?\n",
    "\n"
   ]
  },
  {
   "cell_type": "code",
   "execution_count": null,
   "id": "a6635601",
   "metadata": {},
   "outputs": [],
   "source": [
    "# Store the client ids of those top 5 clients in a list.\n",
    "\n"
   ]
  },
  {
   "cell_type": "code",
   "execution_count": null,
   "id": "c88b8a3e",
   "metadata": {},
   "outputs": [],
   "source": [
    "# How many total units (the qty column) did the\n",
    "# client with the most entries order order?\n",
    "\n"
   ]
  },
  {
   "cell_type": "markdown",
   "id": "257fcd7d",
   "metadata": {},
   "source": [
    "## Part 2: Transform the Data\n",
    "Do we know that this client spent the more money than client 66037? If not, how would we find out? Transform the data using the steps below to prepare it for analysis."
   ]
  },
  {
   "cell_type": "code",
   "execution_count": null,
   "id": "0c25c4a8",
   "metadata": {},
   "outputs": [],
   "source": [
    "# Create a column that calculates the \n",
    "# subtotal for each line using the unit_price\n",
    "# and the qty\n",
    "\n"
   ]
  },
  {
   "cell_type": "code",
   "execution_count": null,
   "id": "ac9dafc8",
   "metadata": {},
   "outputs": [],
   "source": [
    "# Create a column for shipping price.\n",
    "# Assume a shipping price of $7 per pound\n",
    "# for orders over 50 pounds and $10 per\n",
    "# pound for items 50 pounds or under.\n",
    "\n"
   ]
  },
  {
   "cell_type": "code",
   "execution_count": null,
   "id": "77f42c67",
   "metadata": {},
   "outputs": [],
   "source": [
    "# Create a column for the total price\n",
    "# using the subtotal and the shipping price\n",
    "# along with a sales tax of 9.25%\n",
    "\n"
   ]
  },
  {
   "cell_type": "code",
   "execution_count": null,
   "id": "c82ad275",
   "metadata": {},
   "outputs": [],
   "source": [
    "# Create a column for the cost\n",
    "# of each line using unit cost, qty, and\n",
    "# shipping price (assume the shipping cost\n",
    "# is exactly what is charged to the client).\n",
    "\n"
   ]
  },
  {
   "cell_type": "code",
   "execution_count": null,
   "id": "e2389018",
   "metadata": {},
   "outputs": [],
   "source": [
    "# Create a column for the profit of\n",
    "# each line using line cost and line price\n",
    "\n"
   ]
  },
  {
   "cell_type": "markdown",
   "id": "ef6f62b1",
   "metadata": {},
   "source": [
    "## Part 3: Confirm your work\n",
    "You have email receipts showing that the total prices for 3 orders. Confirm that your calculations match the receipts. Remember, each order has multiple lines.\n",
    "\n",
    "Order ID 2742071 had a total price of \\$152,811.89\n",
    "\n",
    "Order ID 2173913 had a total price of \\$162,388.71\n",
    "\n",
    "Order ID 6128929 had a total price of \\$923,441.25\n"
   ]
  },
  {
   "cell_type": "code",
   "execution_count": null,
   "id": "c0e5d68e",
   "metadata": {},
   "outputs": [],
   "source": [
    "# Check your work using the totals above\n"
   ]
  },
  {
   "cell_type": "markdown",
   "id": "b94d58ab",
   "metadata": {},
   "source": [
    "## Part 4: Summarize and Analyze\n",
    "Use the new columns with confirmed values to find the following information."
   ]
  },
  {
   "cell_type": "code",
   "execution_count": null,
   "id": "7c005f34",
   "metadata": {},
   "outputs": [],
   "source": [
    "# How much did each of the top 5 clients by quantity\n",
    "# spend? Check your work from Part 1 for client ids.\n",
    "\n"
   ]
  },
  {
   "cell_type": "code",
   "execution_count": null,
   "id": "81b6e4d2",
   "metadata": {},
   "outputs": [],
   "source": [
    "# Create a summary DataFrame showing the totals for the\n",
    "# for the top 5 clients with the following information:\n",
    "# total units purchased, total shipping price,\n",
    "# total revenue, and total profit. Sort by total profit.\n",
    "\n"
   ]
  },
  {
   "cell_type": "code",
   "execution_count": null,
   "id": "7be02867",
   "metadata": {},
   "outputs": [],
   "source": [
    "# Format the data and rename the columns\n",
    "# to names suitable for presentation.\n",
    "# Currency should be in millions of dollars.\n",
    "\n"
   ]
  },
  {
   "cell_type": "code",
   "execution_count": null,
   "id": "8ead0986",
   "metadata": {},
   "outputs": [],
   "source": [
    "# Sort the updated data by \"Total Profit\" form highest to lowest\n"
   ]
  },
  {
   "cell_type": "code",
   "execution_count": null,
   "id": "6589d63c",
   "metadata": {},
   "outputs": [],
   "source": []
  }
 ],
 "metadata": {
  "kernelspec": {
   "display_name": "ai_learning",
   "language": "python",
   "name": "ai_learning"
  },
  "language_info": {
   "codemirror_mode": {
    "name": "ipython",
    "version": 3
   },
   "file_extension": ".py",
   "mimetype": "text/x-python",
   "name": "python",
   "nbconvert_exporter": "python",
   "pygments_lexer": "ipython3",
   "version": "3.11.8"
  }
 },
 "nbformat": 4,
 "nbformat_minor": 5
}
